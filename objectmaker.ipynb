{
 "cells": [
  {
   "cell_type": "code",
   "execution_count": 1,
   "metadata": {},
   "outputs": [
    {
     "name": "stderr",
     "output_type": "stream",
     "text": [
      "2023-08-11 15:53:10.864611: I tensorflow/core/platform/cpu_feature_guard.cc:182] This TensorFlow binary is optimized to use available CPU instructions in performance-critical operations.\n",
      "To enable the following instructions: AVX2 FMA, in other operations, rebuild TensorFlow with the appropriate compiler flags.\n"
     ]
    }
   ],
   "source": [
    "import IsoLearner_added_functionality as IsoLearner\n",
    "import pickle"
   ]
  },
  {
   "cell_type": "code",
   "execution_count": 3,
   "metadata": {},
   "outputs": [
    {
     "name": "stdout",
     "output_type": "stream",
     "text": [
      "Initializing IsoLearner\n",
      "Generating List of valid metabolites from Moran's I calculations ============> Valid Metabolites Calculated\n",
      "Cleaning data ========================> The dataset has been checked for inconsistencies\n",
      "Inconsistencies found: 10 metabolites, 313 isotopolouges\n",
      "File 0: /Users/goldfei/Documents/IsoLearner-GUI/uploads/glucose-ND-M1-ioncounts-ranks.csv || 298 to drop || 298 dropped\n",
      "File 1: /Users/goldfei/Documents/IsoLearner-GUI/uploads/glucose-ND-M2-ioncounts-ranks.csv || 303 to drop || 303 dropped\n",
      "File 2: /Users/goldfei/Documents/IsoLearner-GUI/uploads/glucose-ND-M3-ioncounts-ranks.csv || 298 to drop || 298 dropped\n",
      "File 3: /Users/goldfei/Documents/IsoLearner-GUI/uploads/glucose-KD-M1-ioncounts-ranks.csv || 293 to drop || 293 dropped\n",
      "File 4: /Users/goldfei/Documents/IsoLearner-GUI/uploads/glucose-KD-M2-ioncounts-ranks.csv || 293 to drop || 293 dropped\n",
      "File 5: /Users/goldfei/Documents/IsoLearner-GUI/uploads/glucose-KD-M3-ioncounts-ranks.csv || 293 to drop || 293 dropped\n",
      "Ion-Data is all consistent! Time to train a model!\n",
      "\n",
      "File 0: /Users/goldfei/Documents/IsoLearner-GUI/uploads/glucose-ND-M1-isotopolouges-ranks.csv || 2588 to drop || 2588 dropped\n",
      "File 1: /Users/goldfei/Documents/IsoLearner-GUI/uploads/glucose-ND-M2-isotopolouges-ranks.csv || 2782 to drop || 2782 dropped\n",
      "File 2: /Users/goldfei/Documents/IsoLearner-GUI/uploads/glucose-ND-M3-isotopolouges-ranks.csv || 2596 to drop || 2596 dropped\n",
      "File 3: /Users/goldfei/Documents/IsoLearner-GUI/uploads/glucose-KD-M1-isotopolouges-ranks.csv || 2528 to drop || 2528 dropped\n",
      "File 4: /Users/goldfei/Documents/IsoLearner-GUI/uploads/glucose-KD-M2-isotopolouges-ranks.csv || 2532 to drop || 2532 dropped\n",
      "File 5: /Users/goldfei/Documents/IsoLearner-GUI/uploads/glucose-KD-M3-isotopolouges-ranks.csv || 2531 to drop || 2531 dropped\n",
      "Iso-Data is all consistent! Time to train a model!\n",
      "\n",
      "Reading in coord data\n"
     ]
    }
   ],
   "source": [
    "Brain_Glucose_IsoLearner = IsoLearner.IsoLearner(absolute_data_path = \"/Users/goldfei/Documents/IsoLearner-GUI\",\n",
    "                                            relative_data_path = \"uploads\")"
   ]
  },
  {
   "cell_type": "code",
   "execution_count": 4,
   "metadata": {},
   "outputs": [
    {
     "name": "stdout",
     "output_type": "stream",
     "text": [
      "Object successfully saved to \"Brain_Glucose_IsoLearner.pkl\"\n"
     ]
    }
   ],
   "source": [
    "file_name = 'Brain_Glucose_IsoLearner.pkl'\n",
    "with open(file_name, 'wb') as file:\n",
    "    pickle.dump(Brain_Glucose_IsoLearner, file)\n",
    "    print(f'Object successfully saved to \"{file_name}\"')"
   ]
  },
  {
   "cell_type": "code",
   "execution_count": null,
   "metadata": {},
   "outputs": [],
   "source": [
    "with open('Brain_Glucose_IsoLearner.pkl', 'rb') as f:\n",
    "    data = pickle.load(f)\n"
   ]
  }
 ],
 "metadata": {
  "kernelspec": {
   "display_name": "Python 3",
   "language": "python",
   "name": "python3"
  },
  "language_info": {
   "codemirror_mode": {
    "name": "ipython",
    "version": 3
   },
   "file_extension": ".py",
   "mimetype": "text/x-python",
   "name": "python",
   "nbconvert_exporter": "python",
   "pygments_lexer": "ipython3",
   "version": "3.11.4"
  },
  "orig_nbformat": 4
 },
 "nbformat": 4,
 "nbformat_minor": 2
}
